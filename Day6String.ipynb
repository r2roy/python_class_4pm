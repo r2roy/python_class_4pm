{
 "cells": [
  {
   "cell_type": "code",
   "execution_count": 1,
   "id": "bd6ac343",
   "metadata": {},
   "outputs": [],
   "source": [
    "#string"
   ]
  },
  {
   "cell_type": "code",
   "execution_count": 2,
   "id": "172474e9",
   "metadata": {},
   "outputs": [
    {
     "name": "stdout",
     "output_type": "stream",
     "text": [
      "<class 'str'>\n"
     ]
    }
   ],
   "source": [
    "s=\"Hello world\"\n",
    "print(type(s))"
   ]
  },
  {
   "cell_type": "code",
   "execution_count": 8,
   "id": "e8b43883",
   "metadata": {},
   "outputs": [
    {
     "name": "stdout",
     "output_type": "stream",
     "text": [
      "<class 'str'> <class 'str'>\n"
     ]
    }
   ],
   "source": [
    "s='Hello World'\n",
    "c='''Hello World'''\n",
    "print(type(s),type(c))"
   ]
  },
  {
   "cell_type": "code",
   "execution_count": 9,
   "id": "6d8ebf98",
   "metadata": {},
   "outputs": [
    {
     "name": "stdout",
     "output_type": "stream",
     "text": [
      "H\n",
      "Hello\n",
      "HloWr\n"
     ]
    }
   ],
   "source": [
    "a=\"Hello World I am Python\"\n",
    "print(a[0])\n",
    "print(a[0:5])\n",
    "print(a[0:10:2])"
   ]
  },
  {
   "cell_type": "code",
   "execution_count": 10,
   "id": "f2362059",
   "metadata": {},
   "outputs": [
    {
     "name": "stdout",
     "output_type": "stream",
     "text": [
      "Hello\n"
     ]
    }
   ],
   "source": [
    "a=\"Hello World I am Python\"\n",
    "b=a[0:5]\n",
    "print(b)\n"
   ]
  },
  {
   "cell_type": "code",
   "execution_count": 16,
   "id": "9a09a912",
   "metadata": {},
   "outputs": [
    {
     "name": "stdout",
     "output_type": "stream",
     "text": [
      "nohtyP\n"
     ]
    }
   ],
   "source": [
    "a=\"Python\"\n",
    "print(a[-1:-7:-1])"
   ]
  },
  {
   "cell_type": "code",
   "execution_count": 18,
   "id": "ccc87eee",
   "metadata": {},
   "outputs": [
    {
     "name": "stdout",
     "output_type": "stream",
     "text": [
      "nohtyP\n"
     ]
    }
   ],
   "source": [
    "a=\"Python\"\n",
    "print(a[::-1])    "
   ]
  },
  {
   "cell_type": "code",
   "execution_count": 21,
   "id": "779e16b6",
   "metadata": {},
   "outputs": [
    {
     "name": "stdout",
     "output_type": "stream",
     "text": [
      "Python"
     ]
    }
   ],
   "source": [
    "a=\"Python\"\n",
    "l=len(a)\n",
    "for i in range(l):\n",
    "    print(a[i],end=\"\")"
   ]
  },
  {
   "cell_type": "code",
   "execution_count": 32,
   "id": "1a901983",
   "metadata": {},
   "outputs": [
    {
     "name": "stdout",
     "output_type": "stream",
     "text": [
      "Python"
     ]
    }
   ],
   "source": [
    "i=0\n",
    "a=\"Python\"\n",
    "l=len(a)\n",
    "while i<l:\n",
    "    print(a[i],end=\"\")\n",
    "    i=i+1"
   ]
  },
  {
   "cell_type": "code",
   "execution_count": 33,
   "id": "1781d301",
   "metadata": {},
   "outputs": [],
   "source": [
    "#WAP to create a billing system\n",
    "#name,price,quantity,total"
   ]
  },
  {
   "cell_type": "code",
   "execution_count": 38,
   "id": "38c80735",
   "metadata": {},
   "outputs": [
    {
     "name": "stdout",
     "output_type": "stream",
     "text": [
      "Enter i = 1\n",
      "Enter name = r\n",
      "Enter price = 2\n",
      "Enter quantity = 2\n",
      "Product name : r Price : 2 Quantity : 2 Total : 4\n"
     ]
    }
   ],
   "source": [
    "i=int(input(\"Enter i = \"))\n",
    "while i>0:\n",
    "    n=input(\"Enter name = \")\n",
    "    p=int(input(\"Enter price = \"))\n",
    "    q=int(input(\"Enter quantity = \"))\n",
    "    total=p*q\n",
    "    i=i-1\n",
    "print(\"Product name\",\":\",n,\"Price\",\":\",p,\"Quantity\",\":\",q,\"Total\",\":\",total)"
   ]
  },
  {
   "cell_type": "code",
   "execution_count": 37,
   "id": "e943de8e",
   "metadata": {},
   "outputs": [
    {
     "name": "stdout",
     "output_type": "stream",
     "text": [
      "Enter n = 2\n",
      "Enter name = apple\n",
      "Enter price = 2\n",
      "Enter Quantity = 2\n",
      "Enter name = Banana\n",
      "Enter price = 3\n",
      "Enter Quantity = 3\n",
      "Bill\n",
      " apple 2 2 4\n",
      "Banana 3 3 9\n",
      "\n",
      "All Total =  13\n"
     ]
    }
   ],
   "source": [
    "info=\"\"\n",
    "all_total=0\n",
    "n=int(input(\"Enter n = \"))\n",
    "for i in range(n):\n",
    "    name=input(\"Enter name = \")\n",
    "    price=int(input(\"Enter price = \"))\n",
    "    quantity=int(input(\"Enter Quantity = \"))\n",
    "    total=price*quantity\n",
    "    info= info+f\"{name} {price} {quantity} {total}\\n\"\n",
    "    all_total=all_total+total\n",
    "print(\"Bill\\n\",info)\n",
    "print(\"All Total = \",all_total)"
   ]
  },
  {
   "cell_type": "code",
   "execution_count": 3,
   "id": "f53e6a47",
   "metadata": {},
   "outputs": [
    {
     "name": "stdout",
     "output_type": "stream",
     "text": [
      "Yes\n",
      "2\n"
     ]
    }
   ],
   "source": [
    "info=\"Ram Sam Hari Sita Gita Ramesh\"\n",
    "name=\"Ram\"\n",
    "if name in info:\n",
    "    print(\"Yes\")\n",
    "    print(info.count(name))"
   ]
  },
  {
   "cell_type": "code",
   "execution_count": 4,
   "id": "cb80b2ed",
   "metadata": {},
   "outputs": [
    {
     "name": "stdout",
     "output_type": "stream",
     "text": [
      "Enter name = ram\n",
      "There is no any name\n"
     ]
    }
   ],
   "source": [
    "info=\"Ram Sam Hari Sita Gita Ramesh\"\n",
    "name=input(\"Enter name = \")\n",
    "if name in info:\n",
    "    print(\"Yes\")\n",
    "    print(info.count(name))\n",
    "else:\n",
    "    print(\"There is no any name\")"
   ]
  },
  {
   "cell_type": "code",
   "execution_count": 5,
   "id": "e0449603",
   "metadata": {},
   "outputs": [
    {
     "name": "stdout",
     "output_type": "stream",
     "text": [
      "ram sam hari sita gita ramesh\n",
      "RAM SAM HARI SITA GITA RAMESH\n"
     ]
    }
   ],
   "source": [
    "info=\"Ram Sam Hari Sita Gita Ramesh\"\n",
    "print(info.lower())\n",
    "print(info.upper())"
   ]
  },
  {
   "cell_type": "code",
   "execution_count": 6,
   "id": "6166828f",
   "metadata": {},
   "outputs": [
    {
     "data": {
      "text/plain": [
       "['Ram', 'Sam', 'Hari', 'Sita', 'Gita', 'Ramesh']"
      ]
     },
     "execution_count": 6,
     "metadata": {},
     "output_type": "execute_result"
    }
   ],
   "source": [
    "\n",
    "info=\"Ram Sam Hari Sita Gita Ramesh\"\n",
    "info.split()"
   ]
  },
  {
   "cell_type": "code",
   "execution_count": 9,
   "id": "2c43d257",
   "metadata": {},
   "outputs": [
    {
     "name": "stdout",
     "output_type": "stream",
     "text": [
      "Enter n = 2\n",
      "Enter name = apple\n",
      "Enter price = 23\n",
      "Enter Quantity = 5\n",
      "Enter name = banana\n",
      "Enter price = 45\n",
      "Enter Quantity = 6\n",
      "Bill\n",
      " apple 23 5 115\n",
      "banana 45 6 270\n",
      "\n",
      "All Total =  385\n"
     ]
    }
   ],
   "source": [
    "info=\"\"\n",
    "all_total=0\n",
    "n=int(input(\"Enter n = \"))\n",
    "for i in range(n):\n",
    "    name=input(\"Enter name = \")\n",
    "    price=int(input(\"Enter price = \"))\n",
    "    quantity=int(input(\"Enter Quantity = \"))\n",
    "    total=price*quantity\n",
    "    info= info+f\"{name} {price} {quantity} {total}\\n\"\n",
    "    all_total=all_total+total\n",
    "print(\"Bill\\n\",info)\n",
    "print(\"All Total = \",all_total)"
   ]
  },
  {
   "cell_type": "code",
   "execution_count": 10,
   "id": "c2082930",
   "metadata": {},
   "outputs": [
    {
     "data": {
      "text/plain": [
       "'apple 23 5 115\\nbanana 45 6 270\\n'"
      ]
     },
     "execution_count": 10,
     "metadata": {},
     "output_type": "execute_result"
    }
   ],
   "source": [
    "info"
   ]
  },
  {
   "cell_type": "code",
   "execution_count": 17,
   "id": "54ca05f5",
   "metadata": {},
   "outputs": [
    {
     "data": {
      "text/plain": [
       "['apple 23 5 115', 'banana 45 6 270']"
      ]
     },
     "execution_count": 17,
     "metadata": {},
     "output_type": "execute_result"
    }
   ],
   "source": [
    "a=info.split('\\n')[:-1]\n",
    "a"
   ]
  },
  {
   "cell_type": "code",
   "execution_count": 15,
   "id": "9e15587b",
   "metadata": {},
   "outputs": [
    {
     "data": {
      "text/plain": [
       "[['apple', '23', '5', '115'], ['banana', '45', '6', '270']]"
      ]
     },
     "execution_count": 15,
     "metadata": {},
     "output_type": "execute_result"
    }
   ],
   "source": [
    "bill_list=[]\n",
    "for i in a:\n",
    "    bill_list.append(i.split())\n",
    "bill_list"
   ]
  },
  {
   "cell_type": "code",
   "execution_count": null,
   "id": "13a3754e",
   "metadata": {},
   "outputs": [],
   "source": []
  }
 ],
 "metadata": {
  "kernelspec": {
   "display_name": "Python 3 (ipykernel)",
   "language": "python",
   "name": "python3"
  },
  "language_info": {
   "codemirror_mode": {
    "name": "ipython",
    "version": 3
   },
   "file_extension": ".py",
   "mimetype": "text/x-python",
   "name": "python",
   "nbconvert_exporter": "python",
   "pygments_lexer": "ipython3",
   "version": "3.10.9"
  }
 },
 "nbformat": 4,
 "nbformat_minor": 5
}
