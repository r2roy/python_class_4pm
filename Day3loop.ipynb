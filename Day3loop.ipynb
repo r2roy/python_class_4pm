{
 "cells": [
  {
   "cell_type": "code",
   "execution_count": 1,
   "id": "f238861b",
   "metadata": {},
   "outputs": [],
   "source": [
    "#if <condition>:\n",
    "#   <operations>\n",
    "#elif <condition>:\n",
    "#   <operation>\n",
    "#.......\n",
    "#else:\n",
    "#    <operation>"
   ]
  },
  {
   "cell_type": "code",
   "execution_count": 2,
   "id": "93981c55",
   "metadata": {},
   "outputs": [
    {
     "name": "stdout",
     "output_type": "stream",
     "text": [
      "Enter a=4\n",
      "4  is even no\n"
     ]
    }
   ],
   "source": [
    "a=int(input(\"Enter a=\"))\n",
    "if a%2 ==0:\n",
    "    print(a,\" is even no\")\n",
    "else:\n",
    "    print(a,\" is odd no\")"
   ]
  },
  {
   "cell_type": "code",
   "execution_count": 3,
   "id": "5f9d1693",
   "metadata": {},
   "outputs": [
    {
     "name": "stdout",
     "output_type": "stream",
     "text": [
      "enter a no =4\n",
      "4 is positive\n"
     ]
    }
   ],
   "source": [
    "a=int(input(\"enter a no =\"))\n",
    "if a<0:\n",
    "    print(a,\"is negative\")\n",
    "else:\n",
    "    print(a,\"is positive\")"
   ]
  },
  {
   "cell_type": "code",
   "execution_count": 4,
   "id": "b4573646",
   "metadata": {},
   "outputs": [
    {
     "name": "stdout",
     "output_type": "stream",
     "text": [
      "enter the value of a=3\n",
      "enter the value of b=3\n",
      "3 and 3 are both equal\n"
     ]
    }
   ],
   "source": [
    "a=int(input(\"enter the value of a=\"))\n",
    "b=int(input(\"enter the value of b=\"))\n",
    "if a>b:\n",
    "    print(a,\"is greather\")\n",
    "elif b>a:\n",
    "    print(b,\"is greather\")\n",
    "else:\n",
    "    print(a,\"and\",b,\"are both equal\")"
   ]
  },
  {
   "cell_type": "code",
   "execution_count": 5,
   "id": "a4f74e84",
   "metadata": {},
   "outputs": [
    {
     "name": "stdout",
     "output_type": "stream",
     "text": [
      "enter your namerr\n",
      "enter your mark in phy77\n",
      "enter your mark in chem88\n",
      "enter your mark in math99\n",
      "your name is rr\n",
      "your total is 264\n",
      "your per is 88.0 %\n",
      "your grade A\n"
     ]
    }
   ],
   "source": [
    "name=input(\"enter your name\")\n",
    "phy=int(input(\"enter your mark in phy\"))\n",
    "chem=int(input(\"enter your mark in chem\"))\n",
    "math=int(input(\"enter your mark in math\"))\n",
    "\n",
    "total=phy+chem+math\n",
    "\n",
    "per=total/3\n",
    "\n",
    "if per>=80:\n",
    "    grade=\"A\"\n",
    "elif per>=70:\n",
    "    grade=\"B\"\n",
    "elif per>=60:\n",
    "    grade=\"C\"\n",
    "else:\n",
    "    grade=\"F\"\n",
    "    \n",
    "print(\"your name is\",name)\n",
    "print(\"your total is\",total)\n",
    "print(\"your per is\",per,\"%\")\n",
    "print(\"your grade\",grade)"
   ]
  },
  {
   "cell_type": "code",
   "execution_count": 13,
   "id": "380f51bd",
   "metadata": {},
   "outputs": [
    {
     "name": "stdout",
     "output_type": "stream",
     "text": [
      "enter the value a= 4\n",
      "enter the value b= 4\n",
      "enter + or - or * or //\n",
      "1.0\n"
     ]
    }
   ],
   "source": [
    "a=int(input(\"enter the value a= \"))\n",
    "b=int(input(\"enter the value b= \"))\n",
    "o=input(\"enter + or - or * or /\")\n",
    "\n",
    "if o==\"+\":\n",
    "    print(a+b)\n",
    "elif o==\"-\":\n",
    "    print(a-b)\n",
    "elif o==\"*\":\n",
    "    print(a*b)\n",
    "elif o==\"/\":\n",
    "    print(a/b)\n",
    "else:\n",
    "    print(\"enter valid operator\")"
   ]
  },
  {
   "cell_type": "code",
   "execution_count": 12,
   "id": "7c5f7882",
   "metadata": {},
   "outputs": [],
   "source": [
    "# Nested if/else\n",
    "# if<condition>:\n",
    "#     if<condition>:\n",
    "#         <operation>"
   ]
  },
  {
   "cell_type": "code",
   "execution_count": 14,
   "id": "122a6fbf",
   "metadata": {},
   "outputs": [
    {
     "name": "stdout",
     "output_type": "stream",
     "text": [
      "enter the value a= 3\n",
      "enter the value b= 0\n",
      "enter + or - or * or //\n",
      "value of b cant be zero\n"
     ]
    }
   ],
   "source": [
    "a=int(input(\"enter the value a= \"))\n",
    "b=int(input(\"enter the value b= \"))\n",
    "o=input(\"enter + or - or * or /\")\n",
    "\n",
    "if o==\"+\":\n",
    "    print(a+b)\n",
    "elif o==\"-\":\n",
    "    print(a-b)\n",
    "elif o==\"*\":\n",
    "    print(a*b)\n",
    "elif o==\"/\":\n",
    "    if b!=0:\n",
    "        print(a/b)\n",
    "    else:\n",
    "        print(\"value of b cant be zero\")\n",
    "else:\n",
    "    print(\"enter valid operator\")"
   ]
  },
  {
   "cell_type": "code",
   "execution_count": 15,
   "id": "b444fbff",
   "metadata": {},
   "outputs": [],
   "source": [
    "#logical operator\n",
    "#and or or"
   ]
  },
  {
   "cell_type": "code",
   "execution_count": 16,
   "id": "1cb0ca54",
   "metadata": {},
   "outputs": [
    {
     "name": "stdout",
     "output_type": "stream",
     "text": [
      "True\n",
      "False\n",
      "False\n",
      "False\n"
     ]
    }
   ],
   "source": [
    "#and\n",
    "\n",
    "print(True and True)\n",
    "print(True and False)\n",
    "print(False and True)\n",
    "print(False and False)"
   ]
  },
  {
   "cell_type": "code",
   "execution_count": 17,
   "id": "73d7ba5e",
   "metadata": {},
   "outputs": [
    {
     "name": "stdout",
     "output_type": "stream",
     "text": [
      "True\n",
      "True\n",
      "True\n",
      "False\n"
     ]
    }
   ],
   "source": [
    "#or\n",
    "\n",
    "print(True or True)\n",
    "print(True or False)\n",
    "print(False or True)\n",
    "print(False or False)"
   ]
  },
  {
   "cell_type": "code",
   "execution_count": 19,
   "id": "f5770a42",
   "metadata": {},
   "outputs": [
    {
     "name": "stdout",
     "output_type": "stream",
     "text": [
      "enter the value a= 2\n",
      "enter the value b= 2\n",
      "enter + or - or * or //\n",
      "1.0\n"
     ]
    }
   ],
   "source": [
    "a=int(input(\"enter the value a= \"))\n",
    "b=int(input(\"enter the value b= \"))\n",
    "o=input(\"enter + or - or * or /\")\n",
    "\n",
    "if o==\"+\":\n",
    "    print(a+b)\n",
    "elif o==\"-\":\n",
    "    print(a-b)\n",
    "elif o==\"*\":\n",
    "    print(a*b)\n",
    "elif o==\"/\" and b!=0:\n",
    "        print(a/b)\n",
    "elif o==\"/\" and b==0:    \n",
    "        print(\"value of b cant be zero\")\n",
    "else:\n",
    "    print(\"enter valid operator\")"
   ]
  },
  {
   "cell_type": "code",
   "execution_count": 22,
   "id": "4f1cd8f9",
   "metadata": {},
   "outputs": [
    {
     "name": "stdout",
     "output_type": "stream",
     "text": [
      "enter address = kathmandu\n",
      "enter age = 14\n",
      "welcomr to event\n"
     ]
    }
   ],
   "source": [
    "address=input(\"enter address = \")\n",
    "age=int(input(\"enter age = \"))\n",
    "\n",
    "if (address==\"kathmandu\") or age>20:\n",
    "    print(\"welcome to event\")\n",
    "else:\n",
    "    print(\"sorry !!!\")"
   ]
  },
  {
   "cell_type": "code",
   "execution_count": null,
   "id": "8d08dc1f",
   "metadata": {},
   "outputs": [],
   "source": []
  }
 ],
 "metadata": {
  "kernelspec": {
   "display_name": "Python 3 (ipykernel)",
   "language": "python",
   "name": "python3"
  },
  "language_info": {
   "codemirror_mode": {
    "name": "ipython",
    "version": 3
   },
   "file_extension": ".py",
   "mimetype": "text/x-python",
   "name": "python",
   "nbconvert_exporter": "python",
   "pygments_lexer": "ipython3",
   "version": "3.10.9"
  }
 },
 "nbformat": 4,
 "nbformat_minor": 5
}
