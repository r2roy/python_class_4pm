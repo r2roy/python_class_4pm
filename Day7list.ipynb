{
 "cells": [
  {
   "cell_type": "code",
   "execution_count": 1,
   "id": "118b32c9",
   "metadata": {},
   "outputs": [],
   "source": [
    "#python collection\n",
    "#list\n",
    "#tuple\n",
    "#dict\n",
    "#set"
   ]
  },
  {
   "cell_type": "code",
   "execution_count": 2,
   "id": "ba802343",
   "metadata": {},
   "outputs": [],
   "source": [
    "# list\n",
    "# -indexing\n",
    "# -ordered\n",
    "# -multiple and duplicate data\n",
    "# -mutable"
   ]
  },
  {
   "cell_type": "code",
   "execution_count": 3,
   "id": "1b12069d",
   "metadata": {},
   "outputs": [
    {
     "name": "stdout",
     "output_type": "stream",
     "text": [
      "<class 'list'>\n",
      "<class 'list'>\n"
     ]
    }
   ],
   "source": [
    "#l=list()\n",
    "l=[1,2,3,4,5,6,7,8,9,10]\n",
    "a=['apple','ball','cat','dog','fish']\n",
    "print(type(l))\n",
    "print(type(a))"
   ]
  },
  {
   "cell_type": "code",
   "execution_count": 5,
   "id": "569fde59",
   "metadata": {},
   "outputs": [
    {
     "name": "stdout",
     "output_type": "stream",
     "text": [
      "apple\n",
      "['apple', 'ball', 'cat', 'dog']\n",
      "['apple', 'cat', 'fish']\n"
     ]
    }
   ],
   "source": [
    "a=['apple','ball','cat','dog','fish']\n",
    "print(a[0])\n",
    "print(a[0:4])\n",
    "print(a[0:5:2])"
   ]
  },
  {
   "cell_type": "code",
   "execution_count": 6,
   "id": "215e6194",
   "metadata": {},
   "outputs": [
    {
     "name": "stdout",
     "output_type": "stream",
     "text": [
      "5\n"
     ]
    }
   ],
   "source": [
    "a=['apple','ball','cat','dog','fish']\n",
    "print(len(a))"
   ]
  },
  {
   "cell_type": "code",
   "execution_count": 7,
   "id": "c8221d74",
   "metadata": {},
   "outputs": [
    {
     "name": "stdout",
     "output_type": "stream",
     "text": [
      "['apple', 'ball', 'cat', 'dog', 'fish', 'apple', 'ball', 'cat', 'dog', 'fish']\n"
     ]
    }
   ],
   "source": [
    "a=['apple','ball','cat','dog','fish']\n",
    "print(a*2)"
   ]
  },
  {
   "cell_type": "code",
   "execution_count": 10,
   "id": "e43316c8",
   "metadata": {},
   "outputs": [
    {
     "name": "stdout",
     "output_type": "stream",
     "text": [
      "apple\n",
      "ball\n",
      "cat\n",
      "dog\n",
      "fish\n"
     ]
    }
   ],
   "source": [
    "a=['apple','ball','cat','dog','fish']\n",
    "for i in a:\n",
    "    print(i)"
   ]
  },
  {
   "cell_type": "code",
   "execution_count": 11,
   "id": "0fc9f03e",
   "metadata": {},
   "outputs": [],
   "source": [
    "# append() insert() extend()"
   ]
  },
  {
   "cell_type": "code",
   "execution_count": 12,
   "id": "728b08e2",
   "metadata": {},
   "outputs": [
    {
     "data": {
      "text/plain": [
       "['apple', 'ball']"
      ]
     },
     "execution_count": 12,
     "metadata": {},
     "output_type": "execute_result"
    }
   ],
   "source": [
    "a=[]\n",
    "a.append(\"apple\")\n",
    "a.append(\"ball\")\n",
    "a"
   ]
  },
  {
   "cell_type": "code",
   "execution_count": 13,
   "id": "458373b1",
   "metadata": {},
   "outputs": [
    {
     "data": {
      "text/plain": [
       "['apple', 'Ball', 'ball', 'cat', 'dog', 'fish', 'apple']"
      ]
     },
     "execution_count": 13,
     "metadata": {},
     "output_type": "execute_result"
    }
   ],
   "source": [
    "#insert\n",
    "a=['apple','ball','cat','dog','fish','apple']\n",
    "a.insert(1,\"Ball\")\n",
    "a"
   ]
  },
  {
   "cell_type": "code",
   "execution_count": 14,
   "id": "8fb2010f",
   "metadata": {},
   "outputs": [
    {
     "name": "stdout",
     "output_type": "stream",
     "text": [
      "['apple', 'ball', 'cat', 'dog', 'fish', 'apple', '1', '2', '3']\n"
     ]
    }
   ],
   "source": [
    "a=['apple','ball','cat','dog','fish','apple']\n",
    "b=['1','2','3']\n",
    "a.extend(b)\n",
    "print(a)"
   ]
  },
  {
   "cell_type": "code",
   "execution_count": 15,
   "id": "ef351154",
   "metadata": {},
   "outputs": [
    {
     "name": "stdout",
     "output_type": "stream",
     "text": [
      "Enter the a = 2\n",
      "Enter x = 23\n",
      "Enter x = 34\n",
      "[23, 34]\n"
     ]
    }
   ],
   "source": [
    "l=[]\n",
    "a=int(input(\"Enter the a = \"))\n",
    "for i in range(a):\n",
    "    x=int(input(\"Enter x = \"))\n",
    "    l.append(x)\n",
    "print(l)"
   ]
  },
  {
   "cell_type": "code",
   "execution_count": 19,
   "id": "f9ce5404",
   "metadata": {},
   "outputs": [
    {
     "name": "stdout",
     "output_type": "stream",
     "text": [
      "max value is 34\n",
      "min value is 23\n",
      "sum is 57\n",
      "[23, 34]\n"
     ]
    }
   ],
   "source": [
    "print(\"max value is\",max(l))\n",
    "print(\"min value is\",min(l))\n",
    "print(\"sum is\",sum(l))\n",
    "l.sort()\n",
    "print(l)"
   ]
  },
  {
   "cell_type": "code",
   "execution_count": 20,
   "id": "151e086f",
   "metadata": {},
   "outputs": [
    {
     "name": "stdout",
     "output_type": "stream",
     "text": [
      "[34, 23]\n"
     ]
    }
   ],
   "source": [
    "l.reverse()\n",
    "print(l)"
   ]
  },
  {
   "cell_type": "code",
   "execution_count": 22,
   "id": "3d8f2566",
   "metadata": {},
   "outputs": [
    {
     "name": "stdout",
     "output_type": "stream",
     "text": [
      "['ant', 'apple', 'ball', 'cat', 'zebra']\n"
     ]
    }
   ],
   "source": [
    "a=[\"ball\",\"cat\",\"zebra\",\"apple\",\"ant\"]\n",
    "a.sort()\n",
    "print(a)"
   ]
  },
  {
   "cell_type": "code",
   "execution_count": 23,
   "id": "1b42da93",
   "metadata": {},
   "outputs": [
    {
     "name": "stdout",
     "output_type": "stream",
     "text": [
      "['Ball', 'Cat', 'zebra', 'apple', 'ant']\n"
     ]
    }
   ],
   "source": [
    "#update\n",
    "a=[\"ball\",\"cat\",\"zebra\",\"apple\",\"ant\"]\n",
    "a[0:2]=['Ball','Cat']\n",
    "print(a)"
   ]
  },
  {
   "cell_type": "code",
   "execution_count": 24,
   "id": "3ff0143b",
   "metadata": {},
   "outputs": [
    {
     "name": "stdout",
     "output_type": "stream",
     "text": [
      "['Ball', 'Cat', 1, 2, 3, 4, 'zebra', 'apple', 'ant']\n"
     ]
    }
   ],
   "source": [
    "#update and add\n",
    "a=[\"ball\",\"cat\",\"zebra\",\"apple\",\"ant\"]\n",
    "a[0:2]=['Ball','Cat',1,2,3,4]\n",
    "print(a)"
   ]
  },
  {
   "cell_type": "code",
   "execution_count": 25,
   "id": "c02612fc",
   "metadata": {},
   "outputs": [],
   "source": [
    "#delete\n",
    "# del remove() pop()"
   ]
  },
  {
   "cell_type": "code",
   "execution_count": 33,
   "id": "17e55652",
   "metadata": {},
   "outputs": [
    {
     "name": "stdout",
     "output_type": "stream",
     "text": [
      "['apple', 'ant']\n"
     ]
    }
   ],
   "source": [
    "#del\n",
    "a=[\"ball\",\"cat\",\"zebra\",\"apple\",\"ant\"]\n",
    "del a[0:3]\n",
    "print(a)"
   ]
  },
  {
   "cell_type": "code",
   "execution_count": 37,
   "id": "d3ee19f2",
   "metadata": {},
   "outputs": [
    {
     "name": "stdout",
     "output_type": "stream",
     "text": [
      "['cat', 'zebra', 'apple', 'ant']\n"
     ]
    }
   ],
   "source": [
    "#remove()\n",
    "a=[\"ball\",\"cat\",\"zebra\",\"apple\",\"ant\"]\n",
    "a.remove(\"ball\")\n",
    "print(a)"
   ]
  },
  {
   "cell_type": "code",
   "execution_count": 40,
   "id": "2dedec89",
   "metadata": {},
   "outputs": [
    {
     "name": "stdout",
     "output_type": "stream",
     "text": [
      "['cat', 'zebra', 'apple', 'ant']\n",
      "ball\n"
     ]
    }
   ],
   "source": [
    "#pop()\n",
    "a=[\"ball\",\"cat\",\"zebra\",\"apple\",\"ant\"]\n",
    "b=a.pop(0)\n",
    "print(a)\n",
    "print(b)"
   ]
  },
  {
   "cell_type": "code",
   "execution_count": 41,
   "id": "baa42de8",
   "metadata": {},
   "outputs": [
    {
     "data": {
      "text/plain": [
       "[]"
      ]
     },
     "execution_count": 41,
     "metadata": {},
     "output_type": "execute_result"
    }
   ],
   "source": [
    "a=[\"ball\",\"cat\",\"zebra\",\"apple\",\"ant\"]\n",
    "a.clear()\n",
    "a"
   ]
  },
  {
   "cell_type": "code",
   "execution_count": null,
   "id": "93bada98",
   "metadata": {},
   "outputs": [],
   "source": []
  },
  {
   "cell_type": "code",
   "execution_count": null,
   "id": "7f993b41",
   "metadata": {},
   "outputs": [],
   "source": []
  }
 ],
 "metadata": {
  "kernelspec": {
   "display_name": "Python 3 (ipykernel)",
   "language": "python",
   "name": "python3"
  },
  "language_info": {
   "codemirror_mode": {
    "name": "ipython",
    "version": 3
   },
   "file_extension": ".py",
   "mimetype": "text/x-python",
   "name": "python",
   "nbconvert_exporter": "python",
   "pygments_lexer": "ipython3",
   "version": "3.10.9"
  }
 },
 "nbformat": 4,
 "nbformat_minor": 5
}
