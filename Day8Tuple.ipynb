{
 "cells": [
  {
   "cell_type": "code",
   "execution_count": 1,
   "id": "07e832ac",
   "metadata": {},
   "outputs": [],
   "source": [
    "# tuple\n",
    "# -indexing\n",
    "# -ordered\n",
    "# -multiple and dublicate data\n",
    "# -Imutable"
   ]
  },
  {
   "cell_type": "code",
   "execution_count": 2,
   "id": "d6967d24",
   "metadata": {},
   "outputs": [],
   "source": [
    "#a=tuple()"
   ]
  },
  {
   "cell_type": "code",
   "execution_count": 5,
   "id": "6884237a",
   "metadata": {},
   "outputs": [
    {
     "name": "stdout",
     "output_type": "stream",
     "text": [
      "(1, 2, 3, 4, 5, 6, 7)\n",
      "('Apple', 'Ball', 'Cat')\n",
      "<class 'tuple'>\n",
      "<class 'tuple'>\n"
     ]
    }
   ],
   "source": [
    "a=(1,2,3,4,5,6,7)\n",
    "b=(\"Apple\",\"Ball\",\"Cat\")\n",
    "print(a)\n",
    "print(b)\n",
    "\n",
    "print(type(a))\n",
    "print(type(b))"
   ]
  },
  {
   "cell_type": "code",
   "execution_count": 4,
   "id": "0b6e7c65",
   "metadata": {},
   "outputs": [
    {
     "name": "stdout",
     "output_type": "stream",
     "text": [
      "Apple\n"
     ]
    }
   ],
   "source": [
    "b=(\"Apple\",\"Ball\",\"Cat\",\"Dog\")\n",
    "print(b[0])"
   ]
  },
  {
   "cell_type": "code",
   "execution_count": 6,
   "id": "a8fa2150",
   "metadata": {},
   "outputs": [],
   "source": [
    "#no append() extend() insert()\n",
    "#no update\n",
    "#no del pop() remove()\n",
    "#no sort()"
   ]
  },
  {
   "cell_type": "code",
   "execution_count": 7,
   "id": "169625ff",
   "metadata": {},
   "outputs": [],
   "source": [
    "#tuple cant have only single value"
   ]
  },
  {
   "cell_type": "code",
   "execution_count": 8,
   "id": "fda399d9",
   "metadata": {},
   "outputs": [
    {
     "name": "stdout",
     "output_type": "stream",
     "text": [
      "<class 'tuple'>\n"
     ]
    }
   ],
   "source": [
    "a=(\"Apple\",)\n",
    "print(type(a))"
   ]
  },
  {
   "cell_type": "code",
   "execution_count": 9,
   "id": "8a116721",
   "metadata": {},
   "outputs": [
    {
     "name": "stdout",
     "output_type": "stream",
     "text": [
      "(1, 2, 3, 4, 5, 6)\n"
     ]
    }
   ],
   "source": [
    "a=(1,2,3)\n",
    "b=(4,5,6)\n",
    "print(a+b)"
   ]
  },
  {
   "cell_type": "code",
   "execution_count": 10,
   "id": "a8f8c036",
   "metadata": {},
   "outputs": [
    {
     "name": "stdout",
     "output_type": "stream",
     "text": [
      "(1, 2, 3, 1, 2, 3)\n"
     ]
    }
   ],
   "source": [
    "a=(1,2,3)\n",
    "print(a*2)"
   ]
  },
  {
   "cell_type": "code",
   "execution_count": 11,
   "id": "f02fbf48",
   "metadata": {},
   "outputs": [
    {
     "name": "stdout",
     "output_type": "stream",
     "text": [
      "Enter the n = 2\n",
      "Enter the x = 3\n",
      "Enter the x = 4\n",
      "(3, 4)\n"
     ]
    }
   ],
   "source": [
    "a=()\n",
    "n=int(input(\"Enter the n = \"))\n",
    "for i in range(n):\n",
    "    x=int(input(\"Enter the x = \"))\n",
    "    a=a+(x,)\n",
    "print(a)"
   ]
  },
  {
   "cell_type": "code",
   "execution_count": 12,
   "id": "3e84c266",
   "metadata": {},
   "outputs": [
    {
     "data": {
      "text/plain": [
       "('Hello',)"
      ]
     },
     "execution_count": 12,
     "metadata": {},
     "output_type": "execute_result"
    }
   ],
   "source": [
    "a=(\"Hello\",)\n",
    "tuple(a)"
   ]
  },
  {
   "cell_type": "code",
   "execution_count": 13,
   "id": "9ab5b5da",
   "metadata": {},
   "outputs": [],
   "source": [
    "#min() max() sum()"
   ]
  },
  {
   "cell_type": "code",
   "execution_count": 14,
   "id": "cfb2c03c",
   "metadata": {},
   "outputs": [
    {
     "name": "stdout",
     "output_type": "stream",
     "text": [
      "67\n",
      "897\n",
      "2412\n"
     ]
    }
   ],
   "source": [
    "a=(234,435,467,67,78,897,234)\n",
    "print(min(a))\n",
    "print(max(a))\n",
    "print(sum(a))"
   ]
  },
  {
   "cell_type": "code",
   "execution_count": 15,
   "id": "264b461c",
   "metadata": {},
   "outputs": [
    {
     "name": "stdout",
     "output_type": "stream",
     "text": [
      "[1, 2]\n"
     ]
    }
   ],
   "source": [
    "a=(1,2,3)\n",
    "b=list(a)\n",
    "del b[2]\n",
    "print(b)"
   ]
  },
  {
   "cell_type": "code",
   "execution_count": 16,
   "id": "905c4c74",
   "metadata": {},
   "outputs": [
    {
     "name": "stdout",
     "output_type": "stream",
     "text": [
      "(1, 2)\n"
     ]
    }
   ],
   "source": [
    "a=tuple(b)\n",
    "print(a)"
   ]
  },
  {
   "cell_type": "code",
   "execution_count": 17,
   "id": "d08f156b",
   "metadata": {},
   "outputs": [
    {
     "data": {
      "text/plain": [
       "[(1, 2), (3, 4), (5, 6)]"
      ]
     },
     "execution_count": 17,
     "metadata": {},
     "output_type": "execute_result"
    }
   ],
   "source": [
    "#tuple inside list\n",
    "a=[(1,2),(3,4),(5,6)]\n",
    "a\n"
   ]
  },
  {
   "cell_type": "code",
   "execution_count": 18,
   "id": "c7128315",
   "metadata": {},
   "outputs": [
    {
     "data": {
      "text/plain": [
       "([1, 2], [3, 4], [5, 6])"
      ]
     },
     "execution_count": 18,
     "metadata": {},
     "output_type": "execute_result"
    }
   ],
   "source": [
    "#list inside tuple\n",
    "a=([1,2],[3,4],[5,6])\n",
    "a\n"
   ]
  },
  {
   "cell_type": "code",
   "execution_count": 19,
   "id": "d099fe9e",
   "metadata": {},
   "outputs": [
    {
     "data": {
      "text/plain": [
       "((1, 2), (3, 4), (5, 6))"
      ]
     },
     "execution_count": 19,
     "metadata": {},
     "output_type": "execute_result"
    }
   ],
   "source": [
    "#tuple inside tuple\n",
    "a=((1,2),(3,4),(5,6))\n",
    "a"
   ]
  },
  {
   "cell_type": "code",
   "execution_count": null,
   "id": "ed55ba41",
   "metadata": {},
   "outputs": [
    {
     "name": "stdout",
     "output_type": "stream",
     "text": [
      "Enter the n = 2\n"
     ]
    }
   ],
   "source": [
    "# a=(('Ram',4,'Kathmandu'),('Hari',5,'Bhaktapur'),('Sam',6,'Lalitpur'))\n",
    "a=()\n",
    "n=int(input(\"Enter the n = \"))\n",
    "for i in range(n):\n",
    "    nm=input(\"Enter the nm = \")\n",
    "    x=int(input(\"Enter the x = \"))\n",
    "    ad=input(\"Enter the ad = \")\n",
    "    a=a+((nm,x,ad),)\n",
    "print(a)"
   ]
  },
  {
   "cell_type": "code",
   "execution_count": null,
   "id": "e35978e3",
   "metadata": {},
   "outputs": [],
   "source": []
  },
  {
   "cell_type": "code",
   "execution_count": null,
   "id": "cf1eaefc",
   "metadata": {},
   "outputs": [],
   "source": []
  }
 ],
 "metadata": {
  "kernelspec": {
   "display_name": "Python 3 (ipykernel)",
   "language": "python",
   "name": "python3"
  },
  "language_info": {
   "codemirror_mode": {
    "name": "ipython",
    "version": 3
   },
   "file_extension": ".py",
   "mimetype": "text/x-python",
   "name": "python",
   "nbconvert_exporter": "python",
   "pygments_lexer": "ipython3",
   "version": "3.10.9"
  }
 },
 "nbformat": 4,
 "nbformat_minor": 5
}
