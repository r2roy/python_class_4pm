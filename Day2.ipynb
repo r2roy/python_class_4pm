{
 "cells": [
  {
   "cell_type": "code",
   "execution_count": 1,
   "id": "e4972cf7",
   "metadata": {},
   "outputs": [
    {
     "name": "stdout",
     "output_type": "stream",
     "text": [
      "3234\n"
     ]
    }
   ],
   "source": [
    "a=input()"
   ]
  },
  {
   "cell_type": "code",
   "execution_count": 2,
   "id": "d476ef7c",
   "metadata": {},
   "outputs": [
    {
     "data": {
      "text/plain": [
       "'3234'"
      ]
     },
     "execution_count": 2,
     "metadata": {},
     "output_type": "execute_result"
    }
   ],
   "source": [
    "a"
   ]
  },
  {
   "cell_type": "code",
   "execution_count": 3,
   "id": "db04c5f6",
   "metadata": {},
   "outputs": [
    {
     "name": "stdout",
     "output_type": "stream",
     "text": [
      "Enter a= 12\n",
      "12\n",
      "<class 'str'>\n"
     ]
    }
   ],
   "source": [
    "a=input(\"Enter a= \")\n",
    "print(a)\n",
    "print(type(a))"
   ]
  },
  {
   "cell_type": "code",
   "execution_count": 5,
   "id": "5ecd0234",
   "metadata": {},
   "outputs": [
    {
     "name": "stdout",
     "output_type": "stream",
     "text": [
      "Enter a=22\n",
      "22\n"
     ]
    },
    {
     "data": {
      "text/plain": [
       "int"
      ]
     },
     "execution_count": 5,
     "metadata": {},
     "output_type": "execute_result"
    }
   ],
   "source": [
    "a=int(input(\"Enter a=\"))\n",
    "print(a)\n",
    "type(a)"
   ]
  },
  {
   "cell_type": "code",
   "execution_count": 7,
   "id": "fef4e70a",
   "metadata": {},
   "outputs": [
    {
     "name": "stdout",
     "output_type": "stream",
     "text": [
      "Enter p=2300\n",
      "Enter t=3.3\n",
      "Enter r=4\n",
      "The value of i = 303.6\n"
     ]
    }
   ],
   "source": [
    "p=int(input(\"Enter p=\"))  #int() str() float() bool() complex()\n",
    "t=float(input(\"Enter t=\"))\n",
    "r=float(input(\"Enter r=\"))\n",
    "i=p*t*r/100\n",
    "print(\"The value of i =\",i)"
   ]
  },
  {
   "cell_type": "code",
   "execution_count": 11,
   "id": "44f68eb9",
   "metadata": {},
   "outputs": [
    {
     "data": {
      "text/plain": [
       "'10'"
      ]
     },
     "execution_count": 11,
     "metadata": {},
     "output_type": "execute_result"
    }
   ],
   "source": [
    "a=10    #conversion\n",
    "b=str(a)\n",
    "b"
   ]
  },
  {
   "cell_type": "code",
   "execution_count": 12,
   "id": "33e210f6",
   "metadata": {},
   "outputs": [
    {
     "data": {
      "text/plain": [
       "10.0"
      ]
     },
     "execution_count": 12,
     "metadata": {},
     "output_type": "execute_result"
    }
   ],
   "source": [
    "a=10\n",
    "b=float(a)\n",
    "b"
   ]
  },
  {
   "cell_type": "code",
   "execution_count": 16,
   "id": "6f0990cf",
   "metadata": {},
   "outputs": [
    {
     "data": {
      "text/plain": [
       "False"
      ]
     },
     "execution_count": 16,
     "metadata": {},
     "output_type": "execute_result"
    }
   ],
   "source": [
    "a=0.0    #except 0 all true\n",
    "b=bool(a)\n",
    "b"
   ]
  },
  {
   "cell_type": "code",
   "execution_count": 17,
   "id": "ab706e3d",
   "metadata": {},
   "outputs": [
    {
     "data": {
      "text/plain": [
       "(10+0j)"
      ]
     },
     "execution_count": 17,
     "metadata": {},
     "output_type": "execute_result"
    }
   ],
   "source": [
    "a=10\n",
    "b=complex(a)\n",
    "b"
   ]
  },
  {
   "cell_type": "code",
   "execution_count": 18,
   "id": "c4e76685",
   "metadata": {},
   "outputs": [
    {
     "name": "stdout",
     "output_type": "stream",
     "text": [
      "Hello10\n"
     ]
    }
   ],
   "source": [
    "a=\"Hello\"\n",
    "b=10\n",
    "c=a+str(b)\n",
    "print(c)"
   ]
  },
  {
   "cell_type": "code",
   "execution_count": 22,
   "id": "9c227b41",
   "metadata": {},
   "outputs": [
    {
     "name": "stdout",
     "output_type": "stream",
     "text": [
      "Enter name =rrr\n",
      "Enter age =23\n",
      "Enter address =asd\n",
      "Hello World I am rrr I am from asd I am 23years old\n"
     ]
    }
   ],
   "source": [
    "name=input(\"Enter name =\")\n",
    "age=int(input(\"Enter age =\"))\n",
    "add=input(\"Enter address =\")\n",
    "\n",
    "info=\"Hello World I am \"+ name + \" I am from \" + add + \" I am \" +str(age) +\"years old\"\n",
    "print (info)"
   ]
  },
  {
   "cell_type": "code",
   "execution_count": 23,
   "id": "d77383cc",
   "metadata": {},
   "outputs": [
    {
     "name": "stdout",
     "output_type": "stream",
     "text": [
      "Enter name = rr\n",
      "Enter your mark in physics = 67\n",
      "Enter your marks in chemistry = 56\n",
      "Enter your marks in math = 99\n",
      "Welcome  rr\n",
      "Your totalmark is  222\n",
      "your percentage is 74.0 %\n"
     ]
    }
   ],
   "source": [
    "name = input(\"Enter name = \")\n",
    "phy = int(input(\"Enter your mark in physics = \"))\n",
    "chem = int(input(\"Enter your marks in chemistry = \"))\n",
    "math = int(input(\"Enter your marks in math = \"))\n",
    "\n",
    "total= phy+chem+math\n",
    "percentage= total/300*100\n",
    "print(\"Welcome \",name )\n",
    "print(\"Your totalmark is \",total)\n",
    "print(\"your percentage is\", percentage,\"%\")"
   ]
  },
  {
   "cell_type": "code",
   "execution_count": 24,
   "id": "af7ae256",
   "metadata": {},
   "outputs": [],
   "source": [
    "#comparison operator < , > , <= , >= , == , !="
   ]
  },
  {
   "cell_type": "code",
   "execution_count": 25,
   "id": "9330fc33",
   "metadata": {},
   "outputs": [
    {
     "name": "stdout",
     "output_type": "stream",
     "text": [
      "True\n"
     ]
    }
   ],
   "source": [
    "a=12  #== compare same value or not\n",
    "b=12\n",
    "print(a==b)"
   ]
  },
  {
   "cell_type": "code",
   "execution_count": 26,
   "id": "1066d330",
   "metadata": {},
   "outputs": [
    {
     "name": "stdout",
     "output_type": "stream",
     "text": [
      "False\n"
     ]
    }
   ],
   "source": [
    "a=3\n",
    "b=4\n",
    "print(a>=b)"
   ]
  },
  {
   "cell_type": "code",
   "execution_count": null,
   "id": "8a7196cd",
   "metadata": {},
   "outputs": [],
   "source": []
  }
 ],
 "metadata": {
  "kernelspec": {
   "display_name": "Python 3 (ipykernel)",
   "language": "python",
   "name": "python3"
  },
  "language_info": {
   "codemirror_mode": {
    "name": "ipython",
    "version": 3
   },
   "file_extension": ".py",
   "mimetype": "text/x-python",
   "name": "python",
   "nbconvert_exporter": "python",
   "pygments_lexer": "ipython3",
   "version": "3.10.9"
  }
 },
 "nbformat": 4,
 "nbformat_minor": 5
}
