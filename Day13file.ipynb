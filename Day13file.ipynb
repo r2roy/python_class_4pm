{
 "cells": [
  {
   "cell_type": "code",
   "execution_count": null,
   "id": "9e6bddec",
   "metadata": {},
   "outputs": [],
   "source": []
  },
  {
   "cell_type": "code",
   "execution_count": 1,
   "id": "8de35245",
   "metadata": {},
   "outputs": [],
   "source": [
    "\n",
    "try:\n",
    "    file =open('data.txt','r')\n",
    "    file.close()\n",
    "except:\n",
    "    print(\"The file is already There!!!\")"
   ]
  },
  {
   "cell_type": "code",
   "execution_count": 2,
   "id": "d9664b1e",
   "metadata": {},
   "outputs": [
    {
     "name": "stdout",
     "output_type": "stream",
     "text": [
      "Hello World\n",
      "Hello World\n",
      "Hello World\n",
      "Hello World\n",
      "Hello World\n",
      "Hello World\n"
     ]
    }
   ],
   "source": [
    "file=open('data.txt','r')\n",
    "data=file.read()\n",
    "print(data)\n",
    "file.close()"
   ]
  },
  {
   "cell_type": "code",
   "execution_count": 3,
   "id": "e04cfc56",
   "metadata": {},
   "outputs": [
    {
     "name": "stdout",
     "output_type": "stream",
     "text": [
      "Hello World\n",
      "Hello World\n",
      "Hello World\n",
      "Hello World\n",
      "Hello World\n",
      "Hello World\n"
     ]
    }
   ],
   "source": [
    "with open('data.txt','r') as file:\n",
    "    print(file.read())"
   ]
  },
  {
   "cell_type": "code",
   "execution_count": 4,
   "id": "93575ef0",
   "metadata": {},
   "outputs": [],
   "source": [
    "try:\n",
    "    file =open('data.txt','r')\n",
    "    file.close()\n",
    "except:\n",
    "    print(\"The file is already There!!!\")"
   ]
  },
  {
   "cell_type": "code",
   "execution_count": 9,
   "id": "cd17e23c",
   "metadata": {},
   "outputs": [
    {
     "name": "stdout",
     "output_type": "stream",
     "text": [
      "sn,name,age,ph\n",
      "1,ram,33,1342343\n",
      "2,gari,66,435634\n"
     ]
    }
   ],
   "source": [
    "file= open('data2.txt','r')\n",
    "data=file.read()\n",
    "print(data)\n",
    "file.close()"
   ]
  },
  {
   "cell_type": "code",
   "execution_count": 10,
   "id": "8b79eb09",
   "metadata": {},
   "outputs": [
    {
     "name": "stdout",
     "output_type": "stream",
     "text": [
      "['sn,name,age,ph', '1,ram,33,1342343', '2,gari,66,435634']\n"
     ]
    },
    {
     "data": {
      "text/plain": [
       "[['sn', 'name', 'age', 'ph'],\n",
       " ['1', 'ram', '33', '1342343'],\n",
       " ['2', 'gari', '66', '435634']]"
      ]
     },
     "execution_count": 10,
     "metadata": {},
     "output_type": "execute_result"
    }
   ],
   "source": [
    "alldata=[]\n",
    "x=data.split(\"\\n\")\n",
    "print(x)\n",
    "\n",
    "for i in x:\n",
    "    alldata.append(i.split(','))\n",
    "alldata"
   ]
  },
  {
   "cell_type": "code",
   "execution_count": 15,
   "id": "f71dd2cf",
   "metadata": {},
   "outputs": [
    {
     "name": "stdout",
     "output_type": "stream",
     "text": [
      "HelloWorld\n"
     ]
    }
   ],
   "source": [
    "file= open('data1.txt','w')\n",
    "data=file.write(\"HelloWorld\")\n",
    "file.close()\n",
    "\n",
    "file=open('data1.txt','r')\n",
    "print(file.read())\n",
    "file.close()"
   ]
  },
  {
   "cell_type": "code",
   "execution_count": 27,
   "id": "0db75201",
   "metadata": {},
   "outputs": [
    {
     "name": "stdout",
     "output_type": "stream",
     "text": [
      "Enter n = 2\n",
      "Enter name = 23\n",
      "Enter price = 23\n",
      "Enter Quantity = 2\n",
      "Enter name = 32\n",
      "Enter price = 23\n",
      "Enter Quantity = 23\n",
      "Bill\n",
      " 23 23 2 46\n",
      "32 23 23 529\n",
      "\n",
      "All Total =  575\n"
     ]
    }
   ],
   "source": [
    "info=\"\"\n",
    "all_total=0\n",
    "n=int(input(\"Enter n = \"))\n",
    "for i in range(n):\n",
    "    name=input(\"Enter name = \")\n",
    "    price=int(input(\"Enter price = \"))\n",
    "    quantity=int(input(\"Enter Quantity = \"))\n",
    "    total=price*quantity\n",
    "    info= info+f\"{name} {price} {quantity} {total}\\n\"\n",
    "    all_total=all_total+total\n",
    "print(\"Bill\\n\",info)\n",
    "print(\"All Total = \",all_total)\n",
    "\n",
    "\n",
    "file=open('bill.csv','w')\n",
    "file.write('Name,Price,Quantity,Total\\n')\n",
    "file.write(info)\n",
    "file.close()"
   ]
  },
  {
   "cell_type": "code",
   "execution_count": 28,
   "id": "4768851c",
   "metadata": {},
   "outputs": [
    {
     "data": {
      "text/plain": [
       "'C:\\\\Users\\\\LENOVO\\\\ClassPython4PM'"
      ]
     },
     "execution_count": 28,
     "metadata": {},
     "output_type": "execute_result"
    }
   ],
   "source": [
    "pwd"
   ]
  },
  {
   "cell_type": "code",
   "execution_count": null,
   "id": "29b8ba2f",
   "metadata": {},
   "outputs": [],
   "source": []
  }
 ],
 "metadata": {
  "kernelspec": {
   "display_name": "Python 3 (ipykernel)",
   "language": "python",
   "name": "python3"
  },
  "language_info": {
   "codemirror_mode": {
    "name": "ipython",
    "version": 3
   },
   "file_extension": ".py",
   "mimetype": "text/x-python",
   "name": "python",
   "nbconvert_exporter": "python",
   "pygments_lexer": "ipython3",
   "version": "3.10.9"
  }
 },
 "nbformat": 4,
 "nbformat_minor": 5
}
