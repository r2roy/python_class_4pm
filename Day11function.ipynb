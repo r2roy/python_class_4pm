{
 "cells": [
  {
   "cell_type": "code",
   "execution_count": 1,
   "id": "9b64d1b2",
   "metadata": {},
   "outputs": [],
   "source": [
    "# print() int() float() str() set() list() dict() input() type()"
   ]
  },
  {
   "cell_type": "code",
   "execution_count": 2,
   "id": "0eef5872",
   "metadata": {},
   "outputs": [],
   "source": [
    "# def<function_name>():\n",
    "#     <operation>\n",
    "# function_name()"
   ]
  },
  {
   "cell_type": "code",
   "execution_count": 4,
   "id": "9fdd35d2",
   "metadata": {},
   "outputs": [
    {
     "name": "stdout",
     "output_type": "stream",
     "text": [
      "Hello World\n"
     ]
    }
   ],
   "source": [
    "def hello():\n",
    "    print(\"Hello World\")\n",
    "hello()"
   ]
  },
  {
   "cell_type": "code",
   "execution_count": 6,
   "id": "31772a99",
   "metadata": {},
   "outputs": [
    {
     "name": "stdout",
     "output_type": "stream",
     "text": [
      "Enter the length = 4\n",
      "Enter the breadth = 5\n",
      "20\n"
     ]
    }
   ],
   "source": [
    "def cal():\n",
    "    l=int(input(\"Enter the length = \"))   #local variable\n",
    "    b=int(input(\"Enter the breadth = \"))\n",
    "    print(l*b)\n",
    "cal()"
   ]
  },
  {
   "cell_type": "code",
   "execution_count": 7,
   "id": "6f186eb0",
   "metadata": {},
   "outputs": [
    {
     "name": "stdout",
     "output_type": "stream",
     "text": [
      "Enter the length = 4\n",
      "Enter the breadth = 5\n",
      "20\n"
     ]
    }
   ],
   "source": [
    "l=int(input(\"Enter the length = \"))   #global variable\n",
    "b=int(input(\"Enter the breadth = \"))\n",
    "def cal():\n",
    "    print(l*b)\n",
    "cal()"
   ]
  },
  {
   "cell_type": "code",
   "execution_count": 8,
   "id": "580b5b99",
   "metadata": {},
   "outputs": [],
   "source": [
    "# function without arguement and no return type\n",
    "# function with arguement and no return type\n",
    "# function without arguement and  return type\n",
    "# function with arguement and return type"
   ]
  },
  {
   "cell_type": "code",
   "execution_count": 9,
   "id": "e8cee94a",
   "metadata": {},
   "outputs": [
    {
     "name": "stdout",
     "output_type": "stream",
     "text": [
      "15\n"
     ]
    }
   ],
   "source": [
    "# function with arguement and no return type\n",
    "\n",
    "def cal(l,b): #l,b is parameter\n",
    "    a=l*b\n",
    "    print(a)\n",
    "cal(5,3)  #5,3 is arguement"
   ]
  },
  {
   "cell_type": "code",
   "execution_count": 10,
   "id": "01b44963",
   "metadata": {},
   "outputs": [
    {
     "name": "stdout",
     "output_type": "stream",
     "text": [
      "Enter name = ram\n",
      "Enter the age = 33\n",
      "Enter the address = patan\n",
      "Hello world I  amram.I am from patan.I am 33\n"
     ]
    }
   ],
   "source": [
    "# function with arguement and no return type\n",
    "\n",
    "def info(x,y,z):\n",
    "    print(f\"Hello world I  am {x}.I am from {z}.I am {y}\")\n",
    "\n",
    "name=input(\"Enter name = \")\n",
    "age=int(input(\"Enter the age = \"))\n",
    "add=input(\"Enter the address = \")\n",
    "\n",
    "info(name,age,add)"
   ]
  },
  {
   "cell_type": "code",
   "execution_count": 12,
   "id": "9dcf8f51",
   "metadata": {},
   "outputs": [
    {
     "name": "stdout",
     "output_type": "stream",
     "text": [
      "enter the value a= 22\n",
      "enter the value b= 33\n",
      "enter + or - or * or /*\n",
      "726\n"
     ]
    }
   ],
   "source": [
    "# function with arguement and no return type\n",
    "\n",
    "def cal(a,b,o):\n",
    "    if o==\"+\":\n",
    "        print(a+b)\n",
    "    elif o==\"-\":\n",
    "        print(a-b)\n",
    "    elif o==\"*\":\n",
    "        print(a*b)\n",
    "    elif o==\"/\":\n",
    "        print(a/b)\n",
    "    else:\n",
    "        print(\"enter valid operator\")\n",
    "        \n",
    "a=int(input(\"enter the value a= \"))\n",
    "b=int(input(\"enter the value b= \"))\n",
    "o=input(\"enter + or - or * or / =\")\n",
    "cal(a,b,o)"
   ]
  },
  {
   "cell_type": "code",
   "execution_count": 18,
   "id": "33eaa5e3",
   "metadata": {},
   "outputs": [
    {
     "name": "stdout",
     "output_type": "stream",
     "text": [
      "enter your namerae\n",
      "enter your mark in phy99\n",
      "enter your mark in chem99\n",
      "enter your mark in math99\n",
      "your name is rae\n",
      "your total is 297\n",
      "your per is 99.0 %\n",
      "your grade A\n"
     ]
    }
   ],
   "source": [
    "\n",
    "def result(info):\n",
    "    total=sum(info[1:])\n",
    "\n",
    "    per=total/3\n",
    "\n",
    "    if per>=80:\n",
    "        grade=\"A\"\n",
    "    elif per>=70:\n",
    "        grade=\"B\"\n",
    "    elif per>=60:\n",
    "        grade=\"C\"\n",
    "    else:\n",
    "        grade=\"F\"\n",
    "\n",
    "    print(\"your name is\",info[0])\n",
    "    print(\"your total is\",total)\n",
    "    print(\"your per is\",per,\"%\")\n",
    "    print(\"your grade\",grade)\n",
    "    \n",
    "name=input(\"enter your name\")\n",
    "phy=int(input(\"enter your mark in phy\"))\n",
    "chem=int(input(\"enter your mark in chem\"))\n",
    "math=int(input(\"enter your mark in math\"))\n",
    "info=[name,phy,chem,math]\n",
    "result(info)"
   ]
  },
  {
   "cell_type": "code",
   "execution_count": 19,
   "id": "4ff83bda",
   "metadata": {},
   "outputs": [
    {
     "name": "stdout",
     "output_type": "stream",
     "text": [
      "C\n",
      "C++\n",
      "C#\n",
      "Java\n",
      "Python\n"
     ]
    }
   ],
   "source": [
    "def language(lan=\"Python\"):\n",
    "    print(lan)\n",
    "    \n",
    "language(\"C\")\n",
    "language(\"C++\")\n",
    "language(\"C#\")\n",
    "language(\"Java\")\n",
    "language()"
   ]
  },
  {
   "cell_type": "code",
   "execution_count": 24,
   "id": "d2e25249",
   "metadata": {},
   "outputs": [
    {
     "name": "stdout",
     "output_type": "stream",
     "text": [
      "45\n",
      "30\n"
     ]
    }
   ],
   "source": [
    "def area(l,b=2,c=3): #beginning value cannot be default\n",
    "    a=l*b*c\n",
    "    print(a)\n",
    "\n",
    "area(5,3)\n",
    "area(5)"
   ]
  },
  {
   "cell_type": "code",
   "execution_count": 25,
   "id": "db43b5c5",
   "metadata": {},
   "outputs": [],
   "source": [
    "# return type function\n"
   ]
  },
  {
   "cell_type": "code",
   "execution_count": 26,
   "id": "d6b14e6f",
   "metadata": {},
   "outputs": [
    {
     "name": "stdout",
     "output_type": "stream",
     "text": [
      "15\n"
     ]
    }
   ],
   "source": [
    "def area(l,b):\n",
    "    a=l*b\n",
    "    return a\n",
    "\n",
    "print(area(5,3))"
   ]
  },
  {
   "cell_type": "code",
   "execution_count": 29,
   "id": "55cf7e6c",
   "metadata": {},
   "outputs": [
    {
     "name": "stdout",
     "output_type": "stream",
     "text": [
      "30\n"
     ]
    }
   ],
   "source": [
    "def area(l,b):\n",
    "    a=l*b\n",
    "    return a\n",
    "\n",
    "ar=area(5,3)\n",
    "\n",
    "h=2\n",
    "v=h*ar\n",
    "print(v)"
   ]
  },
  {
   "cell_type": "code",
   "execution_count": null,
   "id": "089f2178",
   "metadata": {},
   "outputs": [],
   "source": []
  }
 ],
 "metadata": {
  "kernelspec": {
   "display_name": "Python 3 (ipykernel)",
   "language": "python",
   "name": "python3"
  },
  "language_info": {
   "codemirror_mode": {
    "name": "ipython",
    "version": 3
   },
   "file_extension": ".py",
   "mimetype": "text/x-python",
   "name": "python",
   "nbconvert_exporter": "python",
   "pygments_lexer": "ipython3",
   "version": "3.10.9"
  }
 },
 "nbformat": 4,
 "nbformat_minor": 5
}
