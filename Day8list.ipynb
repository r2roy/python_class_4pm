{
 "cells": [
  {
   "cell_type": "code",
   "execution_count": 1,
   "id": "aed04efb",
   "metadata": {},
   "outputs": [],
   "source": [
    "#list inside list"
   ]
  },
  {
   "cell_type": "code",
   "execution_count": 2,
   "id": "18bf5e33",
   "metadata": {},
   "outputs": [
    {
     "name": "stdout",
     "output_type": "stream",
     "text": [
      "[[1, 2, 3], [4, 5, 6], [7, 8, 9]]\n",
      "<class 'list'>\n"
     ]
    }
   ],
   "source": [
    "a=[[1,2,3],[4,5,6],[7,8,9]]\n",
    "print(a)\n",
    "print(type(a))"
   ]
  },
  {
   "cell_type": "code",
   "execution_count": 13,
   "id": "c6c8ac9c",
   "metadata": {},
   "outputs": [
    {
     "name": "stdout",
     "output_type": "stream",
     "text": [
      "[['Ram', 14, 'Kathmandu'], ['Sham', 34, 'Bhaktapur'], ['Hari', 44, 'Lalitpur']]\n"
     ]
    }
   ],
   "source": [
    "a=[[\"Ram\",14,\"Kathmandu\"],[\"Sham\",34,\"Bhaktapur\"],[\"Hari\",44,\"Lalitpur\"]]\n",
    "print(a)"
   ]
  },
  {
   "cell_type": "code",
   "execution_count": 8,
   "id": "6534a3c3",
   "metadata": {},
   "outputs": [
    {
     "name": "stdout",
     "output_type": "stream",
     "text": [
      "Enter n = 1\n",
      "Enter name = a\n",
      "Enter age = 44\n",
      "Enter add = 3\n",
      "[['a', 44, '3']]\n"
     ]
    }
   ],
   "source": [
    "l=[]\n",
    "n=int(input(\"Enter n = \"))\n",
    "for i in range (n):\n",
    "    name=input('Enter name = ')\n",
    "    age=int(input('Enter age = '))\n",
    "    add=input('Enter add = ')\n",
    "    l.append([name,age,add])\n",
    "print(l)"
   ]
  },
  {
   "cell_type": "code",
   "execution_count": 12,
   "id": "13ecff29",
   "metadata": {},
   "outputs": [
    {
     "name": "stdout",
     "output_type": "stream",
     "text": [
      "[['Ram', 4, 'Kathmandu'], ['Hari', 5, 'Bhaktapur']]\n",
      "['Ram', 4, 'Kathmandu']\n",
      "Hari\n"
     ]
    }
   ],
   "source": [
    "a=[['Ram',4,'Kathmandu'],\n",
    "  ['Hari',5,'Bhaktapur']]\n",
    "print(a)\n",
    "print(a[0])\n",
    "print(a[1][0])"
   ]
  },
  {
   "cell_type": "code",
   "execution_count": 17,
   "id": "65836137",
   "metadata": {},
   "outputs": [
    {
     "name": "stdout",
     "output_type": "stream",
     "text": [
      "[['Ram', 4, 'Kathmandu'], ['Hari', 5, 'Bhaktapur'], ['Sam', 66, 'Lalitpur']]\n"
     ]
    }
   ],
   "source": [
    "#append\n",
    "a=[['Ram',4,'Kathmandu'],\n",
    "  ['Hari',5,'Bhaktapur']]\n",
    "a.append(['Sam',66,'Lalitpur'])\n",
    "print(a)"
   ]
  },
  {
   "cell_type": "code",
   "execution_count": 18,
   "id": "682d3f7c",
   "metadata": {},
   "outputs": [
    {
     "data": {
      "text/plain": [
       "[['Ram', 4, 'Kathmandu'], ['Sam', 66, 'Lalitpur']]"
      ]
     },
     "execution_count": 18,
     "metadata": {},
     "output_type": "execute_result"
    }
   ],
   "source": [
    "del a[1]\n",
    "a"
   ]
  },
  {
   "cell_type": "code",
   "execution_count": 24,
   "id": "b1b98d52",
   "metadata": {},
   "outputs": [
    {
     "name": "stdout",
     "output_type": "stream",
     "text": [
      "Enter the name = Sam\n",
      "['Sam', 6, 'Lalitpur']\n"
     ]
    }
   ],
   "source": [
    "#search\n",
    "a=[['Ram',4,'Kathmandu'],\n",
    "  ['Hari',5,'Bhaktapur'],\n",
    "  ['Sam',6,'Lalitpur']]\n",
    "name=input(\"Enter the name = \")\n",
    "for i in a:\n",
    "    if name in i:\n",
    "        print(i)"
   ]
  },
  {
   "cell_type": "code",
   "execution_count": 25,
   "id": "18c4d725",
   "metadata": {},
   "outputs": [
    {
     "data": {
      "text/plain": [
       "[['Ram', 4, 'Lumbini'], ['Hari', 5, 'Bhaktapur'], ['Sam', 6, 'Lalitpur']]"
      ]
     },
     "execution_count": 25,
     "metadata": {},
     "output_type": "execute_result"
    }
   ],
   "source": [
    "a=[['Ram',4,'Kathmandu'],\n",
    "  ['Hari',5,'Bhaktapur'],\n",
    "  ['Sam',6,'Lalitpur']]\n",
    "a[0][2]='Lumbini'\n",
    "a"
   ]
  },
  {
   "cell_type": "code",
   "execution_count": 26,
   "id": "c370e37c",
   "metadata": {},
   "outputs": [
    {
     "name": "stdout",
     "output_type": "stream",
     "text": [
      "Enter the name = ram\n",
      "['Ram', 4, 'Kathmandu']\n"
     ]
    }
   ],
   "source": [
    "a=[['Ram',4,'Kathmandu'],\n",
    "  ['Hari',5,'Bhaktapur'],\n",
    "  ['Sam',6,'Lalitpur']]\n",
    "name=input(\"Enter the name = \")\n",
    "for i in a:\n",
    "    if name.lower() in i[0].lower():\n",
    "        print(i)"
   ]
  },
  {
   "cell_type": "code",
   "execution_count": null,
   "id": "2781a738",
   "metadata": {},
   "outputs": [],
   "source": []
  }
 ],
 "metadata": {
  "kernelspec": {
   "display_name": "Python 3 (ipykernel)",
   "language": "python",
   "name": "python3"
  },
  "language_info": {
   "codemirror_mode": {
    "name": "ipython",
    "version": 3
   },
   "file_extension": ".py",
   "mimetype": "text/x-python",
   "name": "python",
   "nbconvert_exporter": "python",
   "pygments_lexer": "ipython3",
   "version": "3.10.9"
  }
 },
 "nbformat": 4,
 "nbformat_minor": 5
}
