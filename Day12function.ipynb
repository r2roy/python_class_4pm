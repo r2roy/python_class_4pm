{
 "cells": [
  {
   "cell_type": "code",
   "execution_count": 2,
   "id": "a8992942",
   "metadata": {},
   "outputs": [
    {
     "name": "stdout",
     "output_type": "stream",
     "text": [
      "The area is 50\n",
      "The volume is  100\n"
     ]
    }
   ],
   "source": [
    "def cal(l,b,h):\n",
    "    a=l*b\n",
    "    v=a*h\n",
    "    return a,v\n",
    "\n",
    "area,volume=cal(10,5,2)\n",
    "print(\"The area is\",area)\n",
    "print(\"The volume is \",volume)"
   ]
  },
  {
   "cell_type": "code",
   "execution_count": 4,
   "id": "b52212c7",
   "metadata": {},
   "outputs": [
    {
     "name": "stdout",
     "output_type": "stream",
     "text": [
      "enter the value a= 4\n",
      "enter the value b= 5\n",
      "enter + or - or * or /\n",
      "enter valid operator\n"
     ]
    }
   ],
   "source": [
    "def add(a,b):\n",
    "    return a+b\n",
    "def subtract(a,b):\n",
    "    return a-b \n",
    "def multiply(a,b):\n",
    "    return a*b\n",
    "def divide(a,b):\n",
    "    return a/b\n",
    "\n",
    "a=int(input(\"enter the value a= \"))\n",
    "b=int(input(\"enter the value b= \"))\n",
    "o=input(\"enter + or - or * or /\")\n",
    "\n",
    "if o==\"+\":\n",
    "    print(add(a,b))\n",
    "elif o==\"-\":\n",
    "    print(subtract(a,b))\n",
    "elif o==\"*\":\n",
    "    print(multiply(a,b))\n",
    "elif o==\"/\":\n",
    "    print(divide(a,b))\n",
    "else:\n",
    "    print(\"enter valid operator\")"
   ]
  },
  {
   "cell_type": "code",
   "execution_count": null,
   "id": "ce391190",
   "metadata": {},
   "outputs": [],
   "source": [
    "#lambda function"
   ]
  },
  {
   "cell_type": "code",
   "execution_count": 5,
   "id": "55df82bb",
   "metadata": {},
   "outputs": [],
   "source": [
    "# x=lambda<arguements>:<operation>"
   ]
  },
  {
   "cell_type": "code",
   "execution_count": 6,
   "id": "741a05af",
   "metadata": {},
   "outputs": [
    {
     "name": "stdout",
     "output_type": "stream",
     "text": [
      "25\n"
     ]
    }
   ],
   "source": [
    "x=lambda a:a**2\n",
    "print(x(5))"
   ]
  },
  {
   "cell_type": "code",
   "execution_count": 7,
   "id": "1f69dce5",
   "metadata": {},
   "outputs": [
    {
     "name": "stdout",
     "output_type": "stream",
     "text": [
      "25\n"
     ]
    }
   ],
   "source": [
    "x=lambda a,b:a*b\n",
    "print(x(5,5))"
   ]
  },
  {
   "cell_type": "code",
   "execution_count": 9,
   "id": "2c5f9a92",
   "metadata": {},
   "outputs": [],
   "source": [
    "# map() filter()"
   ]
  },
  {
   "cell_type": "code",
   "execution_count": null,
   "id": "e3269412",
   "metadata": {},
   "outputs": [],
   "source": [
    "# map()\n",
    "# list(map(lambda <arguement>:<operation>,list))"
   ]
  },
  {
   "cell_type": "code",
   "execution_count": 11,
   "id": "b6c30b03",
   "metadata": {},
   "outputs": [
    {
     "data": {
      "text/plain": [
       "[9500.0, 19000.0, 38000.0, 47500.0, 570000.0, 85500.0]"
      ]
     },
     "execution_count": 11,
     "metadata": {},
     "output_type": "execute_result"
    }
   ],
   "source": [
    "a=[10000,20000,40000,50000,600000,90000]\n",
    "list(map(lambda x:x*0.95,a))\n"
   ]
  },
  {
   "cell_type": "code",
   "execution_count": 13,
   "id": "47c03e77",
   "metadata": {},
   "outputs": [
    {
     "data": {
      "text/plain": [
       "['apple', 'ball', 'cat', 'dog']"
      ]
     },
     "execution_count": 13,
     "metadata": {},
     "output_type": "execute_result"
    }
   ],
   "source": [
    "a=[\"Apple\",\"Ball\",\"Cat\",\"Dog\"]\n",
    "list(map(lambda x:x.lower(),a))"
   ]
  },
  {
   "cell_type": "code",
   "execution_count": 14,
   "id": "a2f5ff17",
   "metadata": {},
   "outputs": [],
   "source": [
    "#filter()\n",
    "# filter(map(lambda <arguement>:<condition>,list))"
   ]
  },
  {
   "cell_type": "code",
   "execution_count": 23,
   "id": "65d5bace",
   "metadata": {},
   "outputs": [
    {
     "data": {
      "text/plain": [
       "[600000, 90000]"
      ]
     },
     "execution_count": 23,
     "metadata": {},
     "output_type": "execute_result"
    }
   ],
   "source": [
    "a=[10000,20000,40000,50000,600000,90000]\n",
    "list(filter(lambda x:x>50000,a))\n"
   ]
  },
  {
   "cell_type": "code",
   "execution_count": 28,
   "id": "a36e3318",
   "metadata": {},
   "outputs": [
    {
     "data": {
      "text/plain": [
       "[1, 2, 3, 4, 5, 6, 7, 8, 9, 10, 11, 12, 13, 14, 15, 16, 17, 18, 19, 20]"
      ]
     },
     "execution_count": 28,
     "metadata": {},
     "output_type": "execute_result"
    }
   ],
   "source": [
    "a=[i for i in range(1,21)]\n",
    "a"
   ]
  },
  {
   "cell_type": "code",
   "execution_count": 25,
   "id": "f7247a40",
   "metadata": {},
   "outputs": [
    {
     "data": {
      "text/plain": [
       "[1,\n",
       " 4,\n",
       " 9,\n",
       " 16,\n",
       " 25,\n",
       " 36,\n",
       " 49,\n",
       " 64,\n",
       " 81,\n",
       " 100,\n",
       " 121,\n",
       " 144,\n",
       " 169,\n",
       " 196,\n",
       " 225,\n",
       " 256,\n",
       " 289,\n",
       " 324,\n",
       " 361,\n",
       " 400]"
      ]
     },
     "execution_count": 25,
     "metadata": {},
     "output_type": "execute_result"
    }
   ],
   "source": [
    "a=[i**2 for i in range(1,21)]\n",
    "a"
   ]
  },
  {
   "cell_type": "code",
   "execution_count": 26,
   "id": "8c0efb46",
   "metadata": {},
   "outputs": [
    {
     "name": "stdout",
     "output_type": "stream",
     "text": [
      "Enter the value of x = 23\n",
      "Enter the value of x = 43\n",
      "Enter the value of x = 45\n",
      "Enter the value of x = 56\n",
      "Enter the value of x = 67\n"
     ]
    },
    {
     "data": {
      "text/plain": [
       "['23', '43', '45', '56', '67']"
      ]
     },
     "execution_count": 26,
     "metadata": {},
     "output_type": "execute_result"
    }
   ],
   "source": [
    "a=[input(\"Enter the value of x = \") for i in range(5)]\n",
    "a"
   ]
  },
  {
   "cell_type": "code",
   "execution_count": 30,
   "id": "a05e0d71",
   "metadata": {},
   "outputs": [
    {
     "name": "stdout",
     "output_type": "stream",
     "text": [
      "Enter name =wert\n",
      "Enter phone number =3245\n",
      "Enter name =egwt324\n",
      "Enter phone number =3453\n"
     ]
    },
    {
     "data": {
      "text/plain": [
       "{'wert': '3245', 'egwt324': '3453'}"
      ]
     },
     "execution_count": 30,
     "metadata": {},
     "output_type": "execute_result"
    }
   ],
   "source": [
    "a={input(\"Enter name =\"):input(\"Enter phone number =\") for i in range(2)}\n",
    "a"
   ]
  },
  {
   "cell_type": "code",
   "execution_count": null,
   "id": "4dc0426c",
   "metadata": {},
   "outputs": [],
   "source": [
    "#recursive function\n",
    "\n",
    "def hello():\n",
    "    print(\"Hello world\")\n",
    "    hello()\n",
    "    \n",
    "hello()"
   ]
  },
  {
   "cell_type": "code",
   "execution_count": 4,
   "id": "935bd472",
   "metadata": {},
   "outputs": [
    {
     "name": "stdout",
     "output_type": "stream",
     "text": [
      "Hello world\n",
      "Enter y for more printy\n",
      "Hello world\n",
      "Enter y for more printy\n",
      "Hello world\n",
      "Enter y for more printy\n",
      "Hello world\n",
      "Enter y for more printy\n",
      "Hello world\n",
      "Enter y for more printy\n",
      "Hello world\n",
      "Enter y for more printn\n"
     ]
    }
   ],
   "source": [
    "def hello():\n",
    "    print(\"Hello world\")\n",
    "    x=input(\"Enter y for more print\")\n",
    "    if x==\"y\":\n",
    "        hello()\n",
    "    \n",
    "hello()"
   ]
  },
  {
   "cell_type": "code",
   "execution_count": 6,
   "id": "1eecf733",
   "metadata": {},
   "outputs": [
    {
     "name": "stdout",
     "output_type": "stream",
     "text": [
      "Enter radius = 4\n",
      "50.26548245743669\n"
     ]
    }
   ],
   "source": [
    "#math function\n",
    "\n",
    "import math as m\n",
    "\n",
    "r= float(input(\"Enter radius = \"))\n",
    "a= m.pi*m.pow(r,2)\n",
    "print(a)"
   ]
  },
  {
   "cell_type": "code",
   "execution_count": 8,
   "id": "8d79d1e6",
   "metadata": {},
   "outputs": [
    {
     "data": {
      "text/plain": [
       "1.0"
      ]
     },
     "execution_count": 8,
     "metadata": {},
     "output_type": "execute_result"
    }
   ],
   "source": [
    "a=m.sin(m.pi/2)\n",
    "a"
   ]
  },
  {
   "cell_type": "code",
   "execution_count": null,
   "id": "e981290b",
   "metadata": {},
   "outputs": [],
   "source": []
  }
 ],
 "metadata": {
  "kernelspec": {
   "display_name": "Python 3 (ipykernel)",
   "language": "python",
   "name": "python3"
  },
  "language_info": {
   "codemirror_mode": {
    "name": "ipython",
    "version": 3
   },
   "file_extension": ".py",
   "mimetype": "text/x-python",
   "name": "python",
   "nbconvert_exporter": "python",
   "pygments_lexer": "ipython3",
   "version": "3.10.9"
  }
 },
 "nbformat": 4,
 "nbformat_minor": 5
}
