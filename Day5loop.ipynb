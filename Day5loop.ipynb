{
 "cells": [
  {
   "cell_type": "code",
   "execution_count": 1,
   "id": "71aae5d0",
   "metadata": {},
   "outputs": [],
   "source": [
    "#control statement\n",
    "#break\n",
    "#continue"
   ]
  },
  {
   "cell_type": "code",
   "execution_count": 7,
   "id": "cefe7a3f",
   "metadata": {},
   "outputs": [
    {
     "name": "stdout",
     "output_type": "stream",
     "text": [
      "0\n",
      "1\n",
      "2\n",
      "3\n",
      "4\n"
     ]
    }
   ],
   "source": [
    "for i in range(10):\n",
    "    if i==5:\n",
    "        break\n",
    "    print(i)"
   ]
  },
  {
   "cell_type": "code",
   "execution_count": 10,
   "id": "780e8aa4",
   "metadata": {},
   "outputs": [
    {
     "name": "stdout",
     "output_type": "stream",
     "text": [
      "Hello World"
     ]
    }
   ],
   "source": [
    "a=\"Hello World.I am Pyhton.\"\n",
    "for i in (a):\n",
    "    if i==\".\":\n",
    "        break\n",
    "    print (i,end =\"\")\n"
   ]
  },
  {
   "cell_type": "code",
   "execution_count": 12,
   "id": "20bd478e",
   "metadata": {},
   "outputs": [
    {
     "name": "stdout",
     "output_type": "stream",
     "text": [
      "0 1 2 3 4 6 7 8 9 "
     ]
    }
   ],
   "source": [
    "for i in range(10):\n",
    "    if i==5:\n",
    "        continue\n",
    "    print(i,end=\" \")"
   ]
  },
  {
   "cell_type": "code",
   "execution_count": 14,
   "id": "2688cee5",
   "metadata": {},
   "outputs": [
    {
     "name": "stdout",
     "output_type": "stream",
     "text": [
      "Hello World I am Pyhton"
     ]
    }
   ],
   "source": [
    "a=\"Hello World. I am Pyhton.\"\n",
    "for i in (a):\n",
    "    if i==\".\":\n",
    "        continue\n",
    "    print (i,end =\"\")\n"
   ]
  },
  {
   "cell_type": "code",
   "execution_count": 21,
   "id": "b8b27084",
   "metadata": {},
   "outputs": [
    {
     "name": "stdout",
     "output_type": "stream",
     "text": [
      "Enter n=1\n",
      "This is prime no.\n"
     ]
    }
   ],
   "source": [
    "n=int(input(\"Enter n=\"))   #for else loop\n",
    "for i in range(2,n):\n",
    "    if n%i==0:\n",
    "        print(\"This in composite no.\")\n",
    "        break\n",
    "else:\n",
    "    print(\"This is prime no.\")"
   ]
  },
  {
   "cell_type": "code",
   "execution_count": 22,
   "id": "cb609a07",
   "metadata": {},
   "outputs": [],
   "source": [
    "#while loop\n",
    "#while condition:\n",
    "#     <operation>"
   ]
  },
  {
   "cell_type": "code",
   "execution_count": 23,
   "id": "a97a801c",
   "metadata": {},
   "outputs": [
    {
     "name": "stdout",
     "output_type": "stream",
     "text": [
      "Hello World\n",
      "Hello World\n",
      "Hello World\n",
      "Hello World\n",
      "Hello World\n"
     ]
    }
   ],
   "source": [
    "a=0\n",
    "while a<5:\n",
    "    print(\"Hello World\")\n",
    "    a=a+1  #a+=1"
   ]
  },
  {
   "cell_type": "code",
   "execution_count": 24,
   "id": "c1821cff",
   "metadata": {},
   "outputs": [
    {
     "name": "stdout",
     "output_type": "stream",
     "text": [
      "Hello World\n",
      "Hello World\n",
      "Hello World\n",
      "Hello World\n",
      "Hello World\n"
     ]
    }
   ],
   "source": [
    "a=5\n",
    "while a>0:\n",
    "    print(\"Hello World\")\n",
    "    a=a-1  "
   ]
  },
  {
   "cell_type": "code",
   "execution_count": 25,
   "id": "5ff33a22",
   "metadata": {},
   "outputs": [
    {
     "name": "stdout",
     "output_type": "stream",
     "text": [
      "Enter n = 5\n",
      "5 * 1 = 5\n",
      "5 * 2 = 10\n",
      "5 * 3 = 15\n",
      "5 * 4 = 20\n",
      "5 * 5 = 25\n",
      "5 * 6 = 30\n",
      "5 * 7 = 35\n",
      "5 * 8 = 40\n",
      "5 * 9 = 45\n",
      "5 * 10 = 50\n"
     ]
    }
   ],
   "source": [
    "i=1\n",
    "n=int(input(\"Enter n = \"))\n",
    "while i<=10:\n",
    "    print(n,\"*\",i,\"=\",i*n)\n",
    "    i=i+1"
   ]
  },
  {
   "cell_type": "code",
   "execution_count": 29,
   "id": "e8a6f229",
   "metadata": {},
   "outputs": [
    {
     "name": "stdout",
     "output_type": "stream",
     "text": [
      "Enter n = 4\n",
      "Enter name = rf\n",
      "Enter phone = 56\n",
      "Enter name = rt\n",
      "Enter phone = 45\n",
      "Enter name = rt\n",
      "Enter phone = 45\n",
      "Enter name = rt\n",
      "Enter phone = 45\n",
      "rf number is 56\n",
      "rt number is 45\n",
      "rt number is 45\n",
      "rt number is 45\n",
      "\n"
     ]
    }
   ],
   "source": [
    "i=0\n",
    "s=str()\n",
    "n=int(input(\"Enter n = \"))\n",
    "while i<n:\n",
    "    name=input(\"Enter name = \")\n",
    "    phone =input(\"Enter phone = \")\n",
    "    s=s+name+\" number is \"+phone+\"\\n\"\n",
    "    i=i+1\n",
    "print(s)\n",
    "    "
   ]
  },
  {
   "cell_type": "code",
   "execution_count": 32,
   "id": "d98cb4d7",
   "metadata": {},
   "outputs": [
    {
     "name": "stdout",
     "output_type": "stream",
     "text": [
      "Enter n = 5\n",
      "120\n"
     ]
    }
   ],
   "source": [
    "n=int(input(\"Enter n = \")) #factorial\n",
    "f=1\n",
    "i=1\n",
    "while i<=n:\n",
    "    f=f*i\n",
    "    i=i+1\n",
    "print(f)"
   ]
  },
  {
   "cell_type": "code",
   "execution_count": 34,
   "id": "5f0fbd76",
   "metadata": {},
   "outputs": [
    {
     "name": "stdout",
     "output_type": "stream",
     "text": [
      "0\n",
      "1\n",
      "2\n",
      "3\n",
      "4\n"
     ]
    }
   ],
   "source": [
    "#while loop with break\n",
    "i=0\n",
    "while i<10:\n",
    "    if i==5:\n",
    "        break\n",
    "    print(i)\n",
    "    i=i+1"
   ]
  },
  {
   "cell_type": "code",
   "execution_count": 38,
   "id": "a8293660",
   "metadata": {},
   "outputs": [
    {
     "name": "stdout",
     "output_type": "stream",
     "text": [
      "0 1 2 3 4 6 7 8 9 "
     ]
    }
   ],
   "source": [
    "#while loop with continue\n",
    "i=0\n",
    "while i<10:\n",
    "    if i==5:\n",
    "        i=i+1\n",
    "        continue\n",
    "    print(i,end =\" \")\n",
    "    i=i+1"
   ]
  },
  {
   "cell_type": "code",
   "execution_count": null,
   "id": "c55bbdc5",
   "metadata": {},
   "outputs": [],
   "source": []
  }
 ],
 "metadata": {
  "kernelspec": {
   "display_name": "Python 3 (ipykernel)",
   "language": "python",
   "name": "python3"
  },
  "language_info": {
   "codemirror_mode": {
    "name": "ipython",
    "version": 3
   },
   "file_extension": ".py",
   "mimetype": "text/x-python",
   "name": "python",
   "nbconvert_exporter": "python",
   "pygments_lexer": "ipython3",
   "version": "3.10.9"
  }
 },
 "nbformat": 4,
 "nbformat_minor": 5
}
