{
 "cells": [
  {
   "cell_type": "code",
   "execution_count": 1,
   "id": "23518440",
   "metadata": {},
   "outputs": [],
   "source": [
    "# class <class_name1>:\n",
    "#     <operation>\n",
    "\n",
    "# class <class_name2>(class_name1):\n",
    "#     <operation>\n",
    "    \n",
    "# obj=<class_name2>()"
   ]
  },
  {
   "cell_type": "code",
   "execution_count": 3,
   "id": "87e041d3",
   "metadata": {},
   "outputs": [],
   "source": [
    "class a:\n",
    "    pass\n",
    "class b(a):\n",
    "    pass\n",
    "\n",
    "obj=b()"
   ]
  },
  {
   "cell_type": "code",
   "execution_count": 11,
   "id": "b2a103d0",
   "metadata": {},
   "outputs": [
    {
     "name": "stdout",
     "output_type": "stream",
     "text": [
      "Hello world I am Ram.I am from Kathmandu. I am 34 yrs old.\n"
     ]
    }
   ],
   "source": [
    "class data:\n",
    "    def __init__(self):\n",
    "        self.name=\"Ram\"\n",
    "        self.age=34\n",
    "        self.add=\"Kathmandu\"\n",
    "        \n",
    "class Info(data):\n",
    "    def info(self):\n",
    "        print(f\"Hello world I am {self.name}.I am from {self.add}. I am {self.age} yrs old.\")\n",
    "        \n",
    "obj = Info()\n",
    "obj.info()"
   ]
  },
  {
   "cell_type": "code",
   "execution_count": 14,
   "id": "55a63be8",
   "metadata": {},
   "outputs": [
    {
     "name": "stdout",
     "output_type": "stream",
     "text": [
      "Hello world I am Ram.I am from Kathmandu. I am 34 yrs old.\n"
     ]
    }
   ],
   "source": [
    "class data:\n",
    "    def __init__(self,name,age,add):\n",
    "        self.name=name\n",
    "        self.age=age\n",
    "        self.add=add\n",
    "        \n",
    "class Info(data):\n",
    "    def info(self):\n",
    "        print(f\"Hello world I am {self.name}.I am from {self.add}. I am {self.age} yrs old.\")\n",
    "        \n",
    "obj = Info(\"Ram\",34,\"Kathmandu\")\n",
    "obj.info()"
   ]
  },
  {
   "cell_type": "code",
   "execution_count": 24,
   "id": "68e91c5f",
   "metadata": {},
   "outputs": [
    {
     "name": "stdout",
     "output_type": "stream",
     "text": [
      "Hello world I am Ram.I am from Kathmandu. I am 34 yrs old.\n"
     ]
    }
   ],
   "source": [
    "class data:\n",
    "    def __init__(self,name):\n",
    "        self.name=name\n",
    "       \n",
    "        \n",
    "class Info(data):\n",
    "    def __init__(self,name,age,add):\n",
    "        self.age=age\n",
    "        self.add=add\n",
    "        data.__init__(self,name)\n",
    "        \n",
    "    def info(self):            \n",
    "        print(f\"Hello world I am {self.name}.I am from {self.add}. I am {self.age} yrs old.\")\n",
    "        \n",
    "obj = Info(\"Ram\",34,\"Kathmandu\")\n",
    "obj.info()"
   ]
  },
  {
   "cell_type": "code",
   "execution_count": 25,
   "id": "fbb7378f",
   "metadata": {},
   "outputs": [],
   "source": [
    "#multilevel\n",
    "\n",
    "class a:\n",
    "    pass\n",
    "class b(a):\n",
    "    pass\n",
    "class c(b):\n",
    "    pass\n",
    "\n",
    "obj=c()"
   ]
  },
  {
   "cell_type": "code",
   "execution_count": 33,
   "id": "5451e608",
   "metadata": {},
   "outputs": [
    {
     "name": "stdout",
     "output_type": "stream",
     "text": [
      "Hello world I am Ram.I am from Kathmandu. I am 34 yrs old.\n"
     ]
    }
   ],
   "source": [
    "class Address:\n",
    "    def __init__(self,add):\n",
    "        self.add=add\n",
    "\n",
    "\n",
    "class data(Address):\n",
    "    def __init__(self,name,add):\n",
    "        self.name=name\n",
    "        Address.__init__(self,add)\n",
    "        \n",
    "class Info(data):\n",
    "    def __init__(self,name,age,add):\n",
    "        self.age=age\n",
    "        data.__init__(self,name,add)\n",
    "        \n",
    "    def info(self):            \n",
    "        print(f\"Hello world I am {self.name}.I am from {self.add}. I am {self.age} yrs old.\")\n",
    "        \n",
    "obj = Info(\"Ram\",34,\"Kathmandu\")\n",
    "obj.info()"
   ]
  },
  {
   "cell_type": "code",
   "execution_count": 34,
   "id": "ab6e4379",
   "metadata": {},
   "outputs": [
    {
     "name": "stdout",
     "output_type": "stream",
     "text": [
      "Hello world I am Ram.I am from Kathmandu. I am 34 yrs old.\n"
     ]
    }
   ],
   "source": [
    "class Address:\n",
    "    def __init__(self,add):\n",
    "        self.add=add\n",
    "\n",
    "\n",
    "class data(Address):\n",
    "    def __init__(self,name):\n",
    "        self.name=name\n",
    "        \n",
    "class Info(data,Address):\n",
    "    def __init__(self,name,age,add):\n",
    "        self.age=age\n",
    "        data.__init__(self,name)\n",
    "        Address.__init__(self,add)\n",
    "        \n",
    "    def info(self):            \n",
    "        print(f\"Hello world I am {self.name}.I am from {self.add}. I am {self.age} yrs old.\")\n",
    "        \n",
    "obj = Info(\"Ram\",34,\"Kathmandu\")\n",
    "obj.info()"
   ]
  },
  {
   "cell_type": "code",
   "execution_count": 42,
   "id": "a8a4d1f6",
   "metadata": {},
   "outputs": [
    {
     "name": "stdout",
     "output_type": "stream",
     "text": [
      "Hello world I am Ram I am 34 yrs old.\n",
      "Ram 34 Kathmandu\n",
      "Ram\n",
      "34\n",
      "Kathmandu\n"
     ]
    }
   ],
   "source": [
    "#public,private AND protected\n",
    "class data:\n",
    "    def __init__(self,name,age,add):\n",
    "        self.name=name #public members\n",
    "        self._age=age  #protected members\n",
    "        self.__add=add #private menbers\n",
    "    def data(self):\n",
    "        print(self.name,self._age,self.__add)\n",
    "        \n",
    "class Info(data):\n",
    "    def info(self):\n",
    "        print(f\"Hello world I am {self.name} I am {self._age} yrs old.\")\n",
    "        \n",
    "obj = Info(\"Ram\",34,\"Kathmandu\")\n",
    "obj.info()\n",
    "obj.data()\n",
    "print(obj.name)\n",
    "print(obj._age)\n",
    "print(obj._data__add)\n"
   ]
  },
  {
   "cell_type": "code",
   "execution_count": null,
   "id": "d3e29ab5",
   "metadata": {},
   "outputs": [],
   "source": []
  },
  {
   "cell_type": "code",
   "execution_count": null,
   "id": "ef71a7b2",
   "metadata": {},
   "outputs": [],
   "source": []
  }
 ],
 "metadata": {
  "kernelspec": {
   "display_name": "Python 3 (ipykernel)",
   "language": "python",
   "name": "python3"
  },
  "language_info": {
   "codemirror_mode": {
    "name": "ipython",
    "version": 3
   },
   "file_extension": ".py",
   "mimetype": "text/x-python",
   "name": "python",
   "nbconvert_exporter": "python",
   "pygments_lexer": "ipython3",
   "version": "3.10.9"
  }
 },
 "nbformat": 4,
 "nbformat_minor": 5
}
